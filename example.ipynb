{
 "cells": [
  {
   "cell_type": "code",
   "execution_count": 1,
   "id": "1c9bc24d",
   "metadata": {},
   "outputs": [],
   "source": [
    "import download_calls_data\n",
    "import datetime"
   ]
  },
  {
   "cell_type": "code",
   "execution_count": 2,
   "id": "8561337f",
   "metadata": {},
   "outputs": [],
   "source": [
    "start = datetime.datetime(2022, 8, 3)\n",
    "end = datetime.datetime(2022, 8, 4)"
   ]
  },
  {
   "cell_type": "code",
   "execution_count": 3,
   "id": "bee6b01b",
   "metadata": {},
   "outputs": [
    {
     "name": "stdout",
     "output_type": "stream",
     "text": [
      "------------------\n",
      "\tdates\n",
      " 05.08.2022 00:00 \n",
      " 06.08.2022 00:00\n",
      "------------------\n",
      "\tauth\n",
      "done!\n",
      "token:  4ncvnhia4slkn4sglgrfaonukm\n",
      "------------------\n",
      "\taccess\n",
      "done!\n",
      "------------------\n",
      "\tmake_table\n",
      "done!\n",
      "reportFile:  Отчет помощник ПДН 05.08.2022 17:29:57\n",
      "------------------\n",
      "\tdownload_table\n",
      "done!\n",
      "file_name:  calls_data_20220805.xlsx\n"
     ]
    }
   ],
   "source": [
    "download_calls_data.download()"
   ]
  },
  {
   "cell_type": "code",
   "execution_count": null,
   "id": "8eddf05d",
   "metadata": {},
   "outputs": [],
   "source": []
  },
  {
   "cell_type": "code",
   "execution_count": null,
   "id": "41cb6fcf",
   "metadata": {},
   "outputs": [],
   "source": []
  }
 ],
 "metadata": {
  "kernelspec": {
   "display_name": "Python 3 (ipykernel)",
   "language": "python",
   "name": "python3"
  },
  "language_info": {
   "codemirror_mode": {
    "name": "ipython",
    "version": 3
   },
   "file_extension": ".py",
   "mimetype": "text/x-python",
   "name": "python",
   "nbconvert_exporter": "python",
   "pygments_lexer": "ipython3",
   "version": "3.9.12"
  }
 },
 "nbformat": 4,
 "nbformat_minor": 5
}
